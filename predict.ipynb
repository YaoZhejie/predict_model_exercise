{
 "cells": [
  {
   "cell_type": "code",
   "execution_count": 8,
   "metadata": {},
   "outputs": [],
   "source": [
    "from flask import Flask, request, jsonify\n",
    "import pandas as pd\n",
    "import numpy as np\n",
    "from sklearn.preprocessing import LabelEncoder, StandardScaler\n",
    "from tensorflow import keras\n",
    "import h5py\n",
    "\n",
    "app = Flask(__name__)\n",
    "\n",
    "# 加载模型\n",
    "file = h5py.File('model.h5', 'r')\n",
    "model = keras.models.load_model(file)\n",
    "file.close()\n",
    "\n",
    "# 对分类特征进行编码的函数\n",
    "def encode_features(data):\n",
    "    label_encoders = {}\n",
    "    categorical_features = ['Study_Regularity', 'Study_Method', 'Student_Background', 'Study_Start']\n",
    "    for feature in categorical_features:\n",
    "        le = LabelEncoder()\n",
    "        data[feature] = le.fit_transform(data[feature])\n",
    "        label_encoders[feature] = le\n",
    "    return data, label_encoders\n",
    "\n",
    "# 数据预处理和预测的函数\n",
    "def predict_score(data):\n",
    "    data, _ = encode_features(data)\n",
    "    scaler = StandardScaler()\n",
    "    data[['Study_Hours', 'Exam_Score']] = scaler.fit_transform(data[['Study_Hours', 'Exam_Score']])\n",
    "    predictions = model.predict(data)\n",
    "    all_predictions = [prediction[0] + 10 for prediction in predictions]\n",
    "    average_prediction = np.mean(all_predictions)\n",
    "    return int(average_prediction)\n",
    "\n"
   ]
  },
  {
   "cell_type": "code",
   "execution_count": 9,
   "metadata": {},
   "outputs": [
    {
     "name": "stdout",
     "output_type": "stream",
     "text": [
      " * Serving Flask app '__main__'\n",
      " * Debug mode: off\n"
     ]
    },
    {
     "name": "stderr",
     "output_type": "stream",
     "text": [
      "WARNING: This is a development server. Do not use it in a production deployment. Use a production WSGI server instead.\n",
      " * Running on http://127.0.0.1:5000\n",
      "Press CTRL+C to quit\n"
     ]
    },
    {
     "name": "stdout",
     "output_type": "stream",
     "text": [
      "1/1 [==============================] - 0s 108ms/step\n"
     ]
    },
    {
     "name": "stderr",
     "output_type": "stream",
     "text": [
      "127.0.0.1 - - [26/Oct/2023 09:49:41] \"POST /predict HTTP/1.1\" 200 -\n"
     ]
    },
    {
     "name": "stdout",
     "output_type": "stream",
     "text": [
      "1/1 [==============================] - 0s 34ms/step\n"
     ]
    },
    {
     "name": "stderr",
     "output_type": "stream",
     "text": [
      "127.0.0.1 - - [26/Oct/2023 09:49:53] \"POST /predict HTTP/1.1\" 200 -\n"
     ]
    },
    {
     "name": "stdout",
     "output_type": "stream",
     "text": [
      "1/1 [==============================] - 0s 24ms/step\n"
     ]
    },
    {
     "name": "stderr",
     "output_type": "stream",
     "text": [
      "127.0.0.1 - - [26/Oct/2023 09:49:58] \"POST /predict HTTP/1.1\" 200 -\n"
     ]
    }
   ],
   "source": [
    "# 定义API路由\n",
    "@app.route('/predict', methods=['POST'])\n",
    "def predict():\n",
    "    try:\n",
    "        # 从请求中获取JSON数据\n",
    "        json_data = request.get_json()\n",
    "        test_data = pd.DataFrame(json_data)\n",
    "        \n",
    "        # 预测分数\n",
    "        average_prediction = predict_score(test_data)\n",
    "        # 返回预测结果\n",
    "        response = {\n",
    "            'average_prediction': average_prediction\n",
    "        }\n",
    "        return jsonify(response)\n",
    "    except Exception as e:\n",
    "        return jsonify({'error': str(e)})\n",
    "\n",
    "if __name__ == '__main__':\n",
    "    app.run(debug=False)"
   ]
  }
 ],
 "metadata": {
  "kernelspec": {
   "display_name": "Python 3",
   "language": "python",
   "name": "python3"
  },
  "language_info": {
   "codemirror_mode": {
    "name": "ipython",
    "version": 3
   },
   "file_extension": ".py",
   "mimetype": "text/x-python",
   "name": "python",
   "nbconvert_exporter": "python",
   "pygments_lexer": "ipython3",
   "version": "3.9.6"
  }
 },
 "nbformat": 4,
 "nbformat_minor": 2
}
